{
 "cells": [
  {
   "cell_type": "markdown",
   "id": "9f16682c-c77c-434a-b30e-e01e627eb38e",
   "metadata": {},
   "source": [
    "# MATH 189 Final Project\n"
   ]
  },
  {
   "cell_type": "markdown",
   "id": "7abae159-0076-49ac-8ee9-bf651f71f2b0",
   "metadata": {},
   "source": [
    "## Statement of Project"
   ]
  },
  {
   "cell_type": "markdown",
   "id": "3c8bcbb6-966a-46de-93bd-9b8fd8fcf230",
   "metadata": {},
   "source": [
    "Analyzing the wealth distribution among billionaires is vital for understanding broader economic inequalities that plague our current economy. This analysis extends insights to lower income groups, helping to evaluate the effectiveness of economic systems and policies in fostering equitable growth. By studying wealth accumulation dynamics, we hope to uncover patterns and barriers to wealth equality, aiding the understanding of our current economic climate and the creation of future inclusive economic strategies.\n",
    "\n",
    "https://www.kaggle.com/datasets/nelgiriyewithana/billionaires-statistics-dataset"
   ]
  },
  {
   "cell_type": "markdown",
   "id": "25c307cd-3400-4409-8c1c-1a3260f463ac",
   "metadata": {},
   "source": [
    "## Imports"
   ]
  },
  {
   "cell_type": "code",
   "execution_count": 1,
   "id": "c1eb7006-5636-44b3-ac06-402e1e33218f",
   "metadata": {},
   "outputs": [],
   "source": [
    "import pandas as pd\n",
    "import numpy as np\n",
    "import seaborn as sns\n",
    "\n",
    "import statsmodels\n",
    "import statsmodels.api as sm\n",
    "import statsmodels.formula.api as smf\n",
    "import sys\n",
    "\n",
    "sys.path.append('D:/Documents/School/WI24/MATH189/MATH189Final/modules')\n",
    "from data_cleaning import *\n"
   ]
  },
  {
   "cell_type": "markdown",
   "id": "5f2eeab3-bd58-40ba-bde1-705129f658f8",
   "metadata": {},
   "source": [
    "## Importing Dataset"
   ]
  },
  {
   "cell_type": "code",
   "execution_count": 2,
   "id": "2dbd39f3",
   "metadata": {},
   "outputs": [],
   "source": [
    "### DEFINING parent directory, different for each person\n",
    "data_dir = 'D:/Documents/School/WI24/MATH189/FinalData'\n",
    "\n",
    "### Billionaires Data\n",
    "billionaires = pd.read_csv(data_dir + '/billionaires.csv')\n",
    "\n",
    "### EdStats Data\n",
    "ed_stats_country = pd.read_csv(data_dir+'/EdStatsCountry.csv', usecols=lambda column : column != 'Unnamed: 31')"
   ]
  },
  {
   "cell_type": "markdown",
   "id": "f972bcd4",
   "metadata": {},
   "source": [
    "## Cleaning"
   ]
  },
  {
   "cell_type": "code",
   "execution_count": 3,
   "id": "bfdbf1ed",
   "metadata": {},
   "outputs": [],
   "source": [
    "df = merge_billionaires_ed_stats(billionaires, ed_stats_country)"
   ]
  },
  {
   "cell_type": "markdown",
   "id": "06a0694a-a7dc-4279-8d8e-7fb1f2b09e43",
   "metadata": {},
   "source": [
    "## EDA"
   ]
  },
  {
   "cell_type": "markdown",
   "id": "f25d3d5b",
   "metadata": {},
   "source": [
    "#### Data Cleaning"
   ]
  },
  {
   "cell_type": "code",
   "execution_count": 4,
   "id": "25d3f89f",
   "metadata": {},
   "outputs": [
    {
     "data": {
      "text/plain": [
       "Series([], dtype: int64)"
      ]
     },
     "execution_count": 4,
     "metadata": {},
     "output_type": "execute_result"
    }
   ],
   "source": [
    "df = clean_and_prepare_df(df)\n",
    "\n",
    "# Proof of cleaned data\n",
    "missing_values = df.isnull().sum()\n",
    "columns_with_missing_values = missing_values[missing_values > 0]\n",
    "columns_with_missing_values\n"
   ]
  },
  {
   "cell_type": "code",
   "execution_count": null,
   "id": "dbebfca6",
   "metadata": {},
   "outputs": [],
   "source": []
  }
 ],
 "metadata": {
  "kernelspec": {
   "display_name": "Python 3 (ipykernel)",
   "language": "python",
   "name": "python3"
  },
  "language_info": {
   "codemirror_mode": {
    "name": "ipython",
    "version": 3
   },
   "file_extension": ".py",
   "mimetype": "text/x-python",
   "name": "python",
   "nbconvert_exporter": "python",
   "pygments_lexer": "ipython3",
   "version": "3.10.9"
  }
 },
 "nbformat": 4,
 "nbformat_minor": 5
}
