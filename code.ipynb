{
 "cells": [
  {
   "cell_type": "markdown",
   "id": "9f16682c-c77c-434a-b30e-e01e627eb38e",
   "metadata": {},
   "source": [
    "# MATH 189 Final Project\n"
   ]
  },
  {
   "cell_type": "markdown",
   "id": "7abae159-0076-49ac-8ee9-bf651f71f2b0",
   "metadata": {},
   "source": [
    "## Statement of Project"
   ]
  },
  {
   "cell_type": "markdown",
   "id": "3c8bcbb6-966a-46de-93bd-9b8fd8fcf230",
   "metadata": {},
   "source": [
    "Analyzing the wealth distribution among billionaires is vital for understanding broader economic inequalities that plague our current economy. This analysis extends insights to lower income groups, helping to evaluate the effectiveness of economic systems and policies in fostering equitable growth. By studying wealth accumulation dynamics, we hope to uncover patterns and barriers to wealth equality, aiding the understanding of our current economic climate and the creation of future inclusive economic strategies.\n",
    "\n",
    "https://www.kaggle.com/datasets/nelgiriyewithana/billionaires-statistics-dataset"
   ]
  },
  {
   "cell_type": "markdown",
   "id": "25c307cd-3400-4409-8c1c-1a3260f463ac",
   "metadata": {},
   "source": [
    "## Imports"
   ]
  },
  {
   "cell_type": "code",
   "execution_count": 2,
   "id": "c1eb7006-5636-44b3-ac06-402e1e33218f",
   "metadata": {},
   "outputs": [],
   "source": [
    "import pandas as pd\n",
    "import numpy as np\n",
    "import seaborn as sns\n",
    "\n",
    "import statsmodels\n",
    "import statsmodels.api as sm\n",
    "import statsmodels.formula.api as smf\n",
    "import sys\n",
    "\n",
    "sys.path.append('D:/Documents/School/WI24/MATH189/MATH189Final/modules')\n",
    "from data_cleaning import *\n"
   ]
  },
  {
   "cell_type": "markdown",
   "id": "5f2eeab3-bd58-40ba-bde1-705129f658f8",
   "metadata": {},
   "source": [
    "## Importing Dataset"
   ]
  },
  {
   "cell_type": "code",
   "execution_count": 9,
   "id": "2dbd39f3",
   "metadata": {},
   "outputs": [],
   "source": [
    "### DEFINING parent directory, different for each person\n",
    "data_dir = 'D:/Documents/School/WI24/MATH189/FinalData'\n",
    "\n",
    "### Billionaires Data\n",
    "billionaires = pd.read_csv(data_dir + '/billionaires.csv')\n",
    "\n",
    "### EdStats Data\n",
    "ed_stats_country = pd.read_csv(data_dir+'/EdStatsCountry.csv')"
   ]
  },
  {
   "cell_type": "markdown",
   "id": "f972bcd4",
   "metadata": {},
   "source": [
    "### Merging data"
   ]
  },
  {
   "cell_type": "code",
   "execution_count": 10,
   "id": "bfdbf1ed",
   "metadata": {},
   "outputs": [
    {
     "data": {
      "text/html": [
       "<div>\n",
       "<style scoped>\n",
       "    .dataframe tbody tr th:only-of-type {\n",
       "        vertical-align: middle;\n",
       "    }\n",
       "\n",
       "    .dataframe tbody tr th {\n",
       "        vertical-align: top;\n",
       "    }\n",
       "\n",
       "    .dataframe thead th {\n",
       "        text-align: right;\n",
       "    }\n",
       "</style>\n",
       "<table border=\"1\" class=\"dataframe\">\n",
       "  <thead>\n",
       "    <tr style=\"text-align: right;\">\n",
       "      <th></th>\n",
       "      <th>rank</th>\n",
       "      <th>finalWorth</th>\n",
       "      <th>category</th>\n",
       "      <th>personName</th>\n",
       "      <th>age</th>\n",
       "      <th>country</th>\n",
       "      <th>city</th>\n",
       "      <th>source</th>\n",
       "      <th>industries</th>\n",
       "      <th>countryOfCitizenship</th>\n",
       "      <th>...</th>\n",
       "      <th>IMF data dissemination standard</th>\n",
       "      <th>Latest population census</th>\n",
       "      <th>Latest household survey</th>\n",
       "      <th>Source of most recent Income and expenditure data</th>\n",
       "      <th>Vital registration complete</th>\n",
       "      <th>Latest agricultural census</th>\n",
       "      <th>Latest industrial data</th>\n",
       "      <th>Latest trade data</th>\n",
       "      <th>Latest water withdrawal data</th>\n",
       "      <th>Unnamed: 31</th>\n",
       "    </tr>\n",
       "  </thead>\n",
       "  <tbody>\n",
       "    <tr>\n",
       "      <th>0</th>\n",
       "      <td>1</td>\n",
       "      <td>211000</td>\n",
       "      <td>Fashion &amp; Retail</td>\n",
       "      <td>Bernard Arnault &amp; family</td>\n",
       "      <td>74.0</td>\n",
       "      <td>France</td>\n",
       "      <td>Paris</td>\n",
       "      <td>LVMH</td>\n",
       "      <td>Fashion &amp; Retail</td>\n",
       "      <td>France</td>\n",
       "      <td>...</td>\n",
       "      <td>Special Data Dissemination Standard (SDDS)</td>\n",
       "      <td>2006. Rolling census based on continuous sampl...</td>\n",
       "      <td>NaN</td>\n",
       "      <td>Expenditure survey/budget survey (ES/BS), 1994/95</td>\n",
       "      <td>Yes</td>\n",
       "      <td>2010</td>\n",
       "      <td>2009.0</td>\n",
       "      <td>2012.0</td>\n",
       "      <td>2007</td>\n",
       "      <td>NaN</td>\n",
       "    </tr>\n",
       "  </tbody>\n",
       "</table>\n",
       "<p>1 rows × 67 columns</p>\n",
       "</div>"
      ],
      "text/plain": [
       "   rank  finalWorth          category                personName   age country  \\\n",
       "0     1      211000  Fashion & Retail  Bernard Arnault & family  74.0  France   \n",
       "\n",
       "    city source        industries countryOfCitizenship  ...  \\\n",
       "0  Paris   LVMH  Fashion & Retail               France  ...   \n",
       "\n",
       "              IMF data dissemination standard  \\\n",
       "0  Special Data Dissemination Standard (SDDS)   \n",
       "\n",
       "                            Latest population census Latest household survey  \\\n",
       "0  2006. Rolling census based on continuous sampl...                     NaN   \n",
       "\n",
       "   Source of most recent Income and expenditure data  \\\n",
       "0  Expenditure survey/budget survey (ES/BS), 1994/95   \n",
       "\n",
       "  Vital registration complete Latest agricultural census  \\\n",
       "0                         Yes                       2010   \n",
       "\n",
       "  Latest industrial data Latest trade data Latest water withdrawal data  \\\n",
       "0                 2009.0            2012.0                         2007   \n",
       "\n",
       "  Unnamed: 31  \n",
       "0         NaN  \n",
       "\n",
       "[1 rows x 67 columns]"
      ]
     },
     "execution_count": 10,
     "metadata": {},
     "output_type": "execute_result"
    }
   ],
   "source": [
    "df = merge_billionaires_ed_stats(billionaires, ed_stats_country)\n",
    "df.head(1)"
   ]
  },
  {
   "cell_type": "markdown",
   "id": "06a0694a-a7dc-4279-8d8e-7fb1f2b09e43",
   "metadata": {},
   "source": [
    "## EDA"
   ]
  },
  {
   "cell_type": "code",
   "execution_count": 11,
   "id": "47d4c986",
   "metadata": {},
   "outputs": [
    {
     "data": {
      "text/plain": [
       "Index(['rank', 'finalWorth', 'category', 'personName', 'age', 'country',\n",
       "       'city', 'source', 'industries', 'countryOfCitizenship', 'organization',\n",
       "       'selfMade', 'status', 'gender', 'birthDate', 'lastName', 'firstName',\n",
       "       'title', 'date', 'state', 'residenceStateRegion', 'birthYear',\n",
       "       'birthMonth', 'birthDay', 'cpi_country', 'cpi_change_country',\n",
       "       'gdp_country', 'gross_tertiary_education_enrollment',\n",
       "       'gross_primary_education_enrollment_country', 'life_expectancy_country',\n",
       "       'tax_revenue_country_country', 'total_tax_rate_country',\n",
       "       'population_country', 'latitude_country', 'longitude_country',\n",
       "       'Country Code', 'Short Name', 'Table Name', 'Long Name', '2-alpha code',\n",
       "       'Currency Unit', 'Special Notes', 'Region', 'Income Group', 'WB-2 code',\n",
       "       'National accounts base year', 'National accounts reference year',\n",
       "       'SNA price valuation', 'Lending category', 'Other groups',\n",
       "       'System of National Accounts', 'Alternative conversion factor',\n",
       "       'PPP survey year', 'Balance of Payments Manual in use',\n",
       "       'External debt Reporting status', 'System of trade',\n",
       "       'Government Accounting concept', 'IMF data dissemination standard',\n",
       "       'Latest population census', 'Latest household survey',\n",
       "       'Source of most recent Income and expenditure data',\n",
       "       'Vital registration complete', 'Latest agricultural census',\n",
       "       'Latest industrial data', 'Latest trade data',\n",
       "       'Latest water withdrawal data', 'Unnamed: 31'],\n",
       "      dtype='object')"
      ]
     },
     "execution_count": 11,
     "metadata": {},
     "output_type": "execute_result"
    }
   ],
   "source": [
    "df.columns"
   ]
  },
  {
   "cell_type": "markdown",
   "id": "84685dee-2406-47b2-a8ff-97bcecef1b5e",
   "metadata": {},
   "source": [
    "## Analysis"
   ]
  },
  {
   "cell_type": "code",
   "execution_count": null,
   "id": "2c23be53-9fbf-482f-8749-9393b44028a6",
   "metadata": {},
   "outputs": [],
   "source": []
  }
 ],
 "metadata": {
  "kernelspec": {
   "display_name": "Python 3 (ipykernel)",
   "language": "python",
   "name": "python3"
  },
  "language_info": {
   "codemirror_mode": {
    "name": "ipython",
    "version": 3
   },
   "file_extension": ".py",
   "mimetype": "text/x-python",
   "name": "python",
   "nbconvert_exporter": "python",
   "pygments_lexer": "ipython3",
   "version": "3.10.9"
  }
 },
 "nbformat": 4,
 "nbformat_minor": 5
}
