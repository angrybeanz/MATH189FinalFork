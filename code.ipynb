{
 "cells": [
  {
   "cell_type": "markdown",
   "id": "9f16682c-c77c-434a-b30e-e01e627eb38e",
   "metadata": {},
   "source": [
    "# MATH 189 Final Project\n"
   ]
  },
  {
   "cell_type": "markdown",
   "id": "7abae159-0076-49ac-8ee9-bf651f71f2b0",
   "metadata": {},
   "source": [
    "## Statement of Project"
   ]
  },
  {
   "cell_type": "markdown",
   "id": "3c8bcbb6-966a-46de-93bd-9b8fd8fcf230",
   "metadata": {},
   "source": [
    "Analyzing the wealth distribution among billionaires is vital for understanding broader economic inequalities that plague our current economy. This analysis extends insights to lower income groups, helping to evaluate the effectiveness of economic systems and policies in fostering equitable growth. By studying wealth accumulation dynamics, we hope to uncover patterns and barriers to wealth equality, aiding the understanding of our current economic climate and the creation of future inclusive economic strategies.\n",
    "\n",
    "https://www.kaggle.com/datasets/nelgiriyewithana/billionaires-statistics-dataset"
   ]
  },
  {
   "cell_type": "markdown",
   "id": "25c307cd-3400-4409-8c1c-1a3260f463ac",
   "metadata": {},
   "source": [
    "## Imports"
   ]
  },
  {
   "cell_type": "code",
   "execution_count": 2,
   "id": "c1eb7006-5636-44b3-ac06-402e1e33218f",
   "metadata": {},
   "outputs": [],
   "source": [
    "import pandas as pd\n",
    "import numpy as np\n",
    "import seaborn as sns\n",
    "\n",
    "import statsmodels\n",
    "import statsmodels.api as sm\n",
    "import statsmodels.formula.api as smf"
   ]
  },
  {
   "cell_type": "markdown",
   "id": "5f2eeab3-bd58-40ba-bde1-705129f658f8",
   "metadata": {},
   "source": [
    "## Importing Dataset"
   ]
  },
  {
   "cell_type": "code",
   "execution_count": 4,
   "id": "420e9d80-4763-4c6f-b661-5c2979b24e26",
   "metadata": {},
   "outputs": [
    {
     "data": {
      "text/html": [
       "<div>\n",
       "<style scoped>\n",
       "    .dataframe tbody tr th:only-of-type {\n",
       "        vertical-align: middle;\n",
       "    }\n",
       "\n",
       "    .dataframe tbody tr th {\n",
       "        vertical-align: top;\n",
       "    }\n",
       "\n",
       "    .dataframe thead th {\n",
       "        text-align: right;\n",
       "    }\n",
       "</style>\n",
       "<table border=\"1\" class=\"dataframe\">\n",
       "  <thead>\n",
       "    <tr style=\"text-align: right;\">\n",
       "      <th></th>\n",
       "      <th>rank</th>\n",
       "      <th>finalWorth</th>\n",
       "      <th>category</th>\n",
       "      <th>personName</th>\n",
       "      <th>age</th>\n",
       "      <th>country</th>\n",
       "      <th>city</th>\n",
       "      <th>source</th>\n",
       "      <th>industries</th>\n",
       "      <th>countryOfCitizenship</th>\n",
       "      <th>...</th>\n",
       "      <th>cpi_change_country</th>\n",
       "      <th>gdp_country</th>\n",
       "      <th>gross_tertiary_education_enrollment</th>\n",
       "      <th>gross_primary_education_enrollment_country</th>\n",
       "      <th>life_expectancy_country</th>\n",
       "      <th>tax_revenue_country_country</th>\n",
       "      <th>total_tax_rate_country</th>\n",
       "      <th>population_country</th>\n",
       "      <th>latitude_country</th>\n",
       "      <th>longitude_country</th>\n",
       "    </tr>\n",
       "  </thead>\n",
       "  <tbody>\n",
       "    <tr>\n",
       "      <th>659</th>\n",
       "      <td>659</td>\n",
       "      <td>4200</td>\n",
       "      <td>Finance &amp; Investments</td>\n",
       "      <td>Pyotr Aven</td>\n",
       "      <td>68.0</td>\n",
       "      <td>Latvia</td>\n",
       "      <td>NaN</td>\n",
       "      <td>Oil, banking, telecom</td>\n",
       "      <td>Finance &amp; Investments</td>\n",
       "      <td>Russia</td>\n",
       "      <td>...</td>\n",
       "      <td>2.8</td>\n",
       "      <td>$34,117,202,555</td>\n",
       "      <td>88.1</td>\n",
       "      <td>99.4</td>\n",
       "      <td>74.7</td>\n",
       "      <td>22.9</td>\n",
       "      <td>38.1</td>\n",
       "      <td>1912789.0</td>\n",
       "      <td>56.879635</td>\n",
       "      <td>24.603189</td>\n",
       "    </tr>\n",
       "  </tbody>\n",
       "</table>\n",
       "<p>1 rows × 35 columns</p>\n",
       "</div>"
      ],
      "text/plain": [
       "     rank  finalWorth               category  personName   age country city  \\\n",
       "659   659        4200  Finance & Investments  Pyotr Aven  68.0  Latvia  NaN   \n",
       "\n",
       "                    source             industries countryOfCitizenship  ...  \\\n",
       "659  Oil, banking, telecom  Finance & Investments               Russia  ...   \n",
       "\n",
       "    cpi_change_country       gdp_country gross_tertiary_education_enrollment  \\\n",
       "659                2.8  $34,117,202,555                                 88.1   \n",
       "\n",
       "    gross_primary_education_enrollment_country life_expectancy_country  \\\n",
       "659                                       99.4                    74.7   \n",
       "\n",
       "    tax_revenue_country_country total_tax_rate_country population_country  \\\n",
       "659                        22.9                   38.1          1912789.0   \n",
       "\n",
       "    latitude_country longitude_country  \n",
       "659        56.879635         24.603189  \n",
       "\n",
       "[1 rows x 35 columns]"
      ]
     },
     "execution_count": 4,
     "metadata": {},
     "output_type": "execute_result"
    }
   ],
   "source": [
    "df = pd.read_csv('D:/Documents/School/WI24/MATH189/FinalData/billionaires.csv')\n",
    "df[df['country'] == 'Latvia']"
   ]
  },
  {
   "cell_type": "markdown",
   "id": "06a0694a-a7dc-4279-8d8e-7fb1f2b09e43",
   "metadata": {},
   "source": [
    "## EDA"
   ]
  },
  {
   "cell_type": "markdown",
   "id": "84685dee-2406-47b2-a8ff-97bcecef1b5e",
   "metadata": {},
   "source": [
    "## Analysis"
   ]
  },
  {
   "cell_type": "code",
   "execution_count": null,
   "id": "2c23be53-9fbf-482f-8749-9393b44028a6",
   "metadata": {},
   "outputs": [],
   "source": []
  }
 ],
 "metadata": {
  "kernelspec": {
   "display_name": "Python 3 (ipykernel)",
   "language": "python",
   "name": "python3"
  },
  "language_info": {
   "codemirror_mode": {
    "name": "ipython",
    "version": 3
   },
   "file_extension": ".py",
   "mimetype": "text/x-python",
   "name": "python",
   "nbconvert_exporter": "python",
   "pygments_lexer": "ipython3",
   "version": "3.10.9"
  }
 },
 "nbformat": 4,
 "nbformat_minor": 5
}
